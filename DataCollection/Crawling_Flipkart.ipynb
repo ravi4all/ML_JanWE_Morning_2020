{
 "cells": [
  {
   "cell_type": "code",
   "execution_count": 1,
   "metadata": {},
   "outputs": [],
   "source": [
    "import bs4\n",
    "import urllib.request as url"
   ]
  },
  {
   "cell_type": "code",
   "execution_count": 2,
   "metadata": {},
   "outputs": [],
   "source": [
    "path = \"https://www.flipkart.com/search?q=smart+watches&sid=ajy%2Cbuh&as=on&as-show=on&otracker=AS_QueryStore_OrganicAutoSuggest_0_5_na_na_pr&otracker1=AS_QueryStore_OrganicAutoSuggest_0_5_na_na_pr&as-pos=0&as-type=HISTORY&suggestionId=smart+watches%7Cin+Smart+Watches&requestId=83e7bd2e-9c7d-4dcc-b62d-b78ded5f7c1a\""
   ]
  },
  {
   "cell_type": "code",
   "execution_count": 3,
   "metadata": {},
   "outputs": [],
   "source": [
    "# url.urlopen(path) -> http req -> http res\n",
    "res = url.urlopen(path)"
   ]
  },
  {
   "cell_type": "code",
   "execution_count": 4,
   "metadata": {},
   "outputs": [
    {
     "data": {
      "text/plain": [
       "<http.client.HTTPResponse at 0x24f41ba6748>"
      ]
     },
     "execution_count": 4,
     "metadata": {},
     "output_type": "execute_result"
    }
   ],
   "source": [
    "res"
   ]
  },
  {
   "cell_type": "code",
   "execution_count": 5,
   "metadata": {},
   "outputs": [],
   "source": [
    "page = bs4.BeautifulSoup(res)"
   ]
  },
  {
   "cell_type": "code",
   "execution_count": 7,
   "metadata": {},
   "outputs": [],
   "source": [
    "div = page.find('div',class_='_3wU53n')"
   ]
  },
  {
   "cell_type": "code",
   "execution_count": 9,
   "metadata": {},
   "outputs": [
    {
     "data": {
      "text/plain": [
       "'Lioncrown Bluetooth Fitness Smart Watch Phone Black Smartwatch'"
      ]
     },
     "execution_count": 9,
     "metadata": {},
     "output_type": "execute_result"
    }
   ],
   "source": [
    "div.text"
   ]
  },
  {
   "cell_type": "code",
   "execution_count": 10,
   "metadata": {},
   "outputs": [],
   "source": [
    "rating = page.find('div',class_='hGSR34')"
   ]
  },
  {
   "cell_type": "code",
   "execution_count": 11,
   "metadata": {},
   "outputs": [
    {
     "data": {
      "text/plain": [
       "'3.5'"
      ]
     },
     "execution_count": 11,
     "metadata": {},
     "output_type": "execute_result"
    }
   ],
   "source": [
    "rating.text"
   ]
  },
  {
   "cell_type": "code",
   "execution_count": 12,
   "metadata": {},
   "outputs": [],
   "source": [
    "price = page.find('div',class_='_1vC4OE _2rQ-NK')"
   ]
  },
  {
   "cell_type": "code",
   "execution_count": 13,
   "metadata": {},
   "outputs": [
    {
     "data": {
      "text/plain": [
       "'₹740'"
      ]
     },
     "execution_count": 13,
     "metadata": {},
     "output_type": "execute_result"
    }
   ],
   "source": [
    "price.text"
   ]
  },
  {
   "cell_type": "code",
   "execution_count": 14,
   "metadata": {},
   "outputs": [],
   "source": [
    "titles = page.find_all('div',class_='_3wU53n')\n",
    "ratings = page.find_all('div',class_='hGSR34')\n",
    "prices = page.find_all('div',class_='_1vC4OE _2rQ-NK')"
   ]
  },
  {
   "cell_type": "code",
   "execution_count": 18,
   "metadata": {},
   "outputs": [
    {
     "name": "stdout",
     "output_type": "stream",
     "text": [
      "Title : Lioncrown Bluetooth Fitness Smart Watch Phone Black Smartwatch\n",
      "Rating : 3.5\n",
      "Price : ₹740\n",
      "========================\n",
      "Title : Lioncrown Bluetooth, Camera, SIM Call Support White Smartwatch\n",
      "Rating : 3.2\n",
      "Price : ₹1,150\n",
      "========================\n",
      "Title : Noise ColorFit Pro 2 Jet Black Smartwatch\n",
      "Rating : 4\n",
      "Price : ₹3,199\n",
      "========================\n",
      "Title : JM V8 MOBILE phone Smartwatch\n",
      "Rating : 3.6\n",
      "Price : ₹699\n",
      "========================\n",
      "Title : HEALTHIN -GD phone Gold Smartwatch\n",
      "Rating : 3.4\n",
      "Price : ₹558\n",
      "========================\n",
      "Title : Samsung Galaxy Watch 46 mm Silver Smartwatch\n",
      "Rating : 4.6\n",
      "Price : ₹21,990\n",
      "========================\n",
      "Title : Huami Amazfit Bip Lite Smartwatch\n",
      "Rating : 4.1\n",
      "Price : ₹3,499\n",
      "========================\n",
      "Title : Fitbit Versa Smartwatch\n",
      "Rating : 4.2\n",
      "Price : ₹12,999\n",
      "========================\n",
      "Title : E-LIVE DZ09 4g calling health notifier Gold and Black Smartwatch\n",
      "Rating : 3.5\n",
      "Price : ₹585\n",
      "========================\n",
      "Title : Huami Amazfit GTR 47 mm Aluminium Alloy Smartwatch\n",
      "Rating : 4.4\n",
      "Price : ₹10,999\n",
      "========================\n",
      "Title : Gionee Smart Life Smartwatch\n",
      "Rating : 3.8\n",
      "Price : ₹2,999\n",
      "========================\n",
      "Title : MOBILE LINK DZ09 Notifier Silver Smartwatch\n",
      "Rating : 3.3\n",
      "Price : ₹599\n",
      "========================\n",
      "Title : Apple Watch Series 3 GPS - 42 mm Space Grey Aluminium Case with Black Sport Band\n",
      "Rating : 4.7\n",
      "Price : ₹23,900\n",
      "========================\n",
      "Title : Lioncrown Bluetooth, Camera, SIM Call Support Black Smartwatch\n",
      "Rating : 3.2\n",
      "Price : ₹1,095\n",
      "========================\n",
      "Title : ALONZO Dz09 New phone Black Smartwatch\n",
      "Rating : 3.4\n",
      "Price : ₹579\n",
      "========================\n",
      "Title : Duston 4G Mobiles smart watch V8 Black Smartwatch\n",
      "Rating : 4.8\n",
      "Price : ₹799\n",
      "========================\n",
      "Title : Shape n Style A1 Smart Watch Smartwatch\n",
      "Rating : 3.4\n",
      "Price : ₹617\n",
      "========================\n",
      "Title : Enew DZ09-BLACK FC007-1SMW phone Black Smartwatch\n",
      "Rating : 3.4\n",
      "Price : ₹591\n",
      "========================\n",
      "Title : Goosprey GSPRYDZ09-33 phone White Smartwatch\n",
      "Rating : 3.7\n",
      "Price : ₹999\n",
      "========================\n",
      "Title : Fliptic DZ09 Smartwatch\n",
      "Rating : 3.8\n",
      "Price : ₹599\n",
      "========================\n",
      "Title : SYL SW-598 phone Smartwatch\n",
      "Rating : 3.6\n",
      "Price : ₹588\n",
      "========================\n",
      "Title : Noise Colorfit Pro Smartwatch\n",
      "Rating : 2.8\n",
      "Price : ₹2,499\n",
      "========================\n",
      "Title : Cyxus 4G Android 4G calling Smart mobile watch Smartwatch\n",
      "Rating : 3.7\n",
      "Price : ₹628\n",
      "========================\n",
      "Title : Lioncrown SMARTWATCH Black Smartwatch\n",
      "Rating : 5\n",
      "Price : ₹840\n",
      "========================\n"
     ]
    }
   ],
   "source": [
    "for i in range(len(titles)):\n",
    "    print(\"Title :\", titles[i].text)\n",
    "    print(\"Rating :\",ratings[i].text)\n",
    "    print(\"Price :\",prices[i].text)\n",
    "    print(\"========================\")"
   ]
  },
  {
   "cell_type": "code",
   "execution_count": 21,
   "metadata": {},
   "outputs": [],
   "source": [
    "data = {\"titles\":[],\"ratings\":[],\"prices\":[]}\n",
    "for i in range(len(titles)):\n",
    "    data[\"titles\"].append(titles[i].text)\n",
    "    data[\"ratings\"].append(float(ratings[i].text))\n",
    "    data[\"prices\"].append(prices[i].text)\n",
    "    "
   ]
  },
  {
   "cell_type": "code",
   "execution_count": 23,
   "metadata": {},
   "outputs": [],
   "source": [
    "import pandas as pd"
   ]
  },
  {
   "cell_type": "code",
   "execution_count": 24,
   "metadata": {},
   "outputs": [],
   "source": [
    "df = pd.DataFrame(data)"
   ]
  },
  {
   "cell_type": "code",
   "execution_count": 29,
   "metadata": {},
   "outputs": [
    {
     "data": {
      "text/html": [
       "<div>\n",
       "<style scoped>\n",
       "    .dataframe tbody tr th:only-of-type {\n",
       "        vertical-align: middle;\n",
       "    }\n",
       "\n",
       "    .dataframe tbody tr th {\n",
       "        vertical-align: top;\n",
       "    }\n",
       "\n",
       "    .dataframe thead th {\n",
       "        text-align: right;\n",
       "    }\n",
       "</style>\n",
       "<table border=\"1\" class=\"dataframe\">\n",
       "  <thead>\n",
       "    <tr style=\"text-align: right;\">\n",
       "      <th></th>\n",
       "      <th>titles</th>\n",
       "      <th>ratings</th>\n",
       "      <th>prices</th>\n",
       "    </tr>\n",
       "  </thead>\n",
       "  <tbody>\n",
       "    <tr>\n",
       "      <th>0</th>\n",
       "      <td>Lioncrown Bluetooth Fitness Smart Watch Phone ...</td>\n",
       "      <td>3.5</td>\n",
       "      <td>₹740</td>\n",
       "    </tr>\n",
       "    <tr>\n",
       "      <th>1</th>\n",
       "      <td>Lioncrown Bluetooth, Camera, SIM Call Support ...</td>\n",
       "      <td>3.2</td>\n",
       "      <td>₹1,150</td>\n",
       "    </tr>\n",
       "    <tr>\n",
       "      <th>2</th>\n",
       "      <td>Noise ColorFit Pro 2 Jet Black Smartwatch</td>\n",
       "      <td>4.0</td>\n",
       "      <td>₹3,199</td>\n",
       "    </tr>\n",
       "    <tr>\n",
       "      <th>3</th>\n",
       "      <td>JM V8 MOBILE phone Smartwatch</td>\n",
       "      <td>3.6</td>\n",
       "      <td>₹699</td>\n",
       "    </tr>\n",
       "    <tr>\n",
       "      <th>4</th>\n",
       "      <td>HEALTHIN -GD phone Gold Smartwatch</td>\n",
       "      <td>3.4</td>\n",
       "      <td>₹558</td>\n",
       "    </tr>\n",
       "  </tbody>\n",
       "</table>\n",
       "</div>"
      ],
      "text/plain": [
       "                                              titles  ratings  prices\n",
       "0  Lioncrown Bluetooth Fitness Smart Watch Phone ...      3.5    ₹740\n",
       "1  Lioncrown Bluetooth, Camera, SIM Call Support ...      3.2  ₹1,150\n",
       "2          Noise ColorFit Pro 2 Jet Black Smartwatch      4.0  ₹3,199\n",
       "3                      JM V8 MOBILE phone Smartwatch      3.6    ₹699\n",
       "4                 HEALTHIN -GD phone Gold Smartwatch      3.4    ₹558"
      ]
     },
     "execution_count": 29,
     "metadata": {},
     "output_type": "execute_result"
    }
   ],
   "source": [
    "df.head()"
   ]
  },
  {
   "cell_type": "code",
   "execution_count": 27,
   "metadata": {},
   "outputs": [
    {
     "data": {
      "text/plain": [
       "5.0"
      ]
     },
     "execution_count": 27,
     "metadata": {},
     "output_type": "execute_result"
    }
   ],
   "source": [
    "max(df['ratings'])"
   ]
  },
  {
   "cell_type": "code",
   "execution_count": 28,
   "metadata": {},
   "outputs": [
    {
     "data": {
      "text/html": [
       "<div>\n",
       "<style scoped>\n",
       "    .dataframe tbody tr th:only-of-type {\n",
       "        vertical-align: middle;\n",
       "    }\n",
       "\n",
       "    .dataframe tbody tr th {\n",
       "        vertical-align: top;\n",
       "    }\n",
       "\n",
       "    .dataframe thead th {\n",
       "        text-align: right;\n",
       "    }\n",
       "</style>\n",
       "<table border=\"1\" class=\"dataframe\">\n",
       "  <thead>\n",
       "    <tr style=\"text-align: right;\">\n",
       "      <th></th>\n",
       "      <th>titles</th>\n",
       "      <th>ratings</th>\n",
       "      <th>prices</th>\n",
       "    </tr>\n",
       "  </thead>\n",
       "  <tbody>\n",
       "    <tr>\n",
       "      <th>23</th>\n",
       "      <td>Lioncrown SMARTWATCH Black Smartwatch</td>\n",
       "      <td>5.0</td>\n",
       "      <td>₹840</td>\n",
       "    </tr>\n",
       "  </tbody>\n",
       "</table>\n",
       "</div>"
      ],
      "text/plain": [
       "                                   titles  ratings prices\n",
       "23  Lioncrown SMARTWATCH Black Smartwatch      5.0   ₹840"
      ]
     },
     "execution_count": 28,
     "metadata": {},
     "output_type": "execute_result"
    }
   ],
   "source": [
    "df[df['ratings'] == 5.0]"
   ]
  },
  {
   "cell_type": "code",
   "execution_count": null,
   "metadata": {},
   "outputs": [],
   "source": []
  }
 ],
 "metadata": {
  "kernelspec": {
   "display_name": "Python 3",
   "language": "python",
   "name": "python3"
  },
  "language_info": {
   "codemirror_mode": {
    "name": "ipython",
    "version": 3
   },
   "file_extension": ".py",
   "mimetype": "text/x-python",
   "name": "python",
   "nbconvert_exporter": "python",
   "pygments_lexer": "ipython3",
   "version": "3.7.3"
  }
 },
 "nbformat": 4,
 "nbformat_minor": 2
}
