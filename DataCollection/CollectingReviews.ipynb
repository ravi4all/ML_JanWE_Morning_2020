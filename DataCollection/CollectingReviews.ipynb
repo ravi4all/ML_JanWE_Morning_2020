{
 "cells": [
  {
   "cell_type": "code",
   "execution_count": 1,
   "metadata": {},
   "outputs": [],
   "source": [
    "import bs4\n",
    "import urllib.request as url"
   ]
  },
  {
   "cell_type": "code",
   "execution_count": 2,
   "metadata": {},
   "outputs": [],
   "source": [
    "path = \"https://www.flipkart.com/huami-amazfit-bip-lite-smartwatch/product-reviews/itme9635d6b9907e?pid=SMWFHV3HVUNBPDGQ\""
   ]
  },
  {
   "cell_type": "code",
   "execution_count": 3,
   "metadata": {},
   "outputs": [],
   "source": [
    "res = url.urlopen(path)"
   ]
  },
  {
   "cell_type": "code",
   "execution_count": 4,
   "metadata": {},
   "outputs": [],
   "source": [
    "page = bs4.BeautifulSoup(res)"
   ]
  },
  {
   "cell_type": "code",
   "execution_count": 5,
   "metadata": {},
   "outputs": [],
   "source": [
    "review = page.find_all('p',class_='_2xg6Ul')"
   ]
  },
  {
   "cell_type": "code",
   "execution_count": 7,
   "metadata": {},
   "outputs": [
    {
     "data": {
      "text/plain": [
       "10"
      ]
     },
     "execution_count": 7,
     "metadata": {},
     "output_type": "execute_result"
    }
   ],
   "source": [
    "len(review)"
   ]
  },
  {
   "cell_type": "code",
   "execution_count": 12,
   "metadata": {},
   "outputs": [],
   "source": [
    "ratings = page.find_all('div',class_='E_uFuv')"
   ]
  },
  {
   "cell_type": "code",
   "execution_count": 13,
   "metadata": {},
   "outputs": [
    {
     "data": {
      "text/plain": [
       "10"
      ]
     },
     "execution_count": 13,
     "metadata": {},
     "output_type": "execute_result"
    }
   ],
   "source": [
    "len(ratings)"
   ]
  },
  {
   "cell_type": "code",
   "execution_count": null,
   "metadata": {},
   "outputs": [],
   "source": []
  },
  {
   "cell_type": "code",
   "execution_count": 18,
   "metadata": {},
   "outputs": [
    {
     "name": "stdout",
     "output_type": "stream",
     "text": [
      "Page => 1\n",
      "Review :  Best in the market!\n",
      "Rating :  5\n",
      "Review :  Good but costly\n",
      "Rating :  4\n",
      "Review :  Excellent\n",
      "Rating :  5\n",
      "Review :  Worthless\n",
      "Rating :  1\n",
      "Review :  Perfect product!\n",
      "Rating :  5\n",
      "Review :  Best in the market!\n",
      "Rating :  5\n",
      "Review :  Worth every penny\n",
      "Rating :  5\n",
      "Review :  Delightful\n",
      "Rating :  4\n",
      "Review :  Fair\n",
      "Rating :  3\n",
      "Review :  Worth the money\n",
      "Rating :  4\n",
      "==========================\n",
      "Page => 2\n",
      "Review :  Simply awesome\n",
      "Rating :  5\n",
      "Review :  Excellent\n",
      "Rating :  5\n",
      "Review :  Just okay\n",
      "Rating :  3\n",
      "Review :  Simply awesome\n",
      "Rating :  5\n",
      "Review :  Very poor\n",
      "Rating :  1\n",
      "Review :  Worthless\n",
      "Rating :  1\n",
      "Review :  Slightly disappointed\n",
      "Rating :  2\n",
      "Review :  Excellent\n",
      "Rating :  5\n",
      "Review :  Terrific purchase\n",
      "Rating :  5\n",
      "Review :  Classy product\n",
      "Rating :  5\n",
      "==========================\n",
      "Page => 3\n",
      "Review :  Expected a better product\n",
      "Rating :  2\n",
      "Review :  Simply awesome\n",
      "Rating :  5\n",
      "Review :  Wonderful\n",
      "Rating :  5\n",
      "Review :  Great product\n",
      "Rating :  5\n",
      "Review :  Not good\n",
      "Rating :  2\n",
      "Review :  Brilliant\n",
      "Rating :  5\n",
      "Review :  Super!\n",
      "Rating :  5\n",
      "Review :  Awesome\n",
      "Rating :  5\n",
      "Review :  Perfect product!\n",
      "Rating :  5\n",
      "Review :  Must buy!\n",
      "Rating :  5\n",
      "==========================\n",
      "Page => 4\n",
      "Review :  Useless product\n",
      "Rating :  1\n",
      "Review :  Pretty good\n",
      "Rating :  4\n",
      "Review :  Just okay\n",
      "Rating :  3\n",
      "Review :  Waste of money!\n",
      "Rating :  1\n",
      "Review :  Nice product\n",
      "Rating :  4\n",
      "Review :  Decent product\n",
      "Rating :  3\n",
      "Review :  Nice\n",
      "Rating :  3\n",
      "Review :  Must buy!\n",
      "Rating :  5\n",
      "Review :  Pretty good\n",
      "Rating :  4\n",
      "Review :  Brilliant\n",
      "Rating :  5\n",
      "==========================\n",
      "Page => 5\n",
      "Review :  Terrific purchase\n",
      "Rating :  5\n",
      "Review :  Terrific purchase\n",
      "Rating :  5\n",
      "Review :  Perfect product!\n",
      "Rating :  5\n",
      "Review :  Unsatisfactory\n",
      "Rating :  1\n",
      "Review :  Delightful\n",
      "Rating :  4\n",
      "Review :  Hated it!\n",
      "Rating :  1\n",
      "Review :  Good quality product\n",
      "Rating :  4\n",
      "Review :  Best in the market!\n",
      "Rating :  5\n",
      "Review :  Highly recommended\n",
      "Rating :  5\n",
      "Review :  Super!\n",
      "Rating :  5\n",
      "==========================\n",
      "Page => 6\n",
      "Review :  Excellent\n",
      "Rating :  5\n",
      "Review :  Worth every penny\n",
      "Rating :  5\n",
      "Review :  Good quality product\n",
      "Rating :  4\n",
      "Review :  Good choice\n",
      "Rating :  4\n",
      "Review :  Brilliant\n",
      "Rating :  5\n",
      "Review :  Worth the money\n",
      "Rating :  4\n",
      "Review :  Fabulous!\n",
      "Rating :  5\n",
      "Review :  Terrific purchase\n",
      "Rating :  5\n",
      "Review :  Classy product\n",
      "Rating :  5\n",
      "Review :  Useless product\n",
      "Rating :  1\n",
      "==========================\n",
      "Page => 7\n",
      "Review :  Very Good\n",
      "Rating :  4\n",
      "Review :  Absolute rubbish!\n",
      "Rating :  1\n",
      "Review :  Fabulous!\n",
      "Rating :  5\n",
      "Review :  Best in the market!\n",
      "Rating :  5\n",
      "Review :  Really Nice\n",
      "Rating :  4\n",
      "Review :  Just wow!\n",
      "Rating :  5\n",
      "Review :  Did not meet expectations\n",
      "Rating :  1\n",
      "Review :  Best in the market!\n",
      "Rating :  5\n",
      "Review :  Wonderful\n",
      "Rating :  4\n",
      "Review :  Very Good\n",
      "Rating :  4\n",
      "==========================\n",
      "Page => 8\n",
      "Review :  Best in the market!\n",
      "Rating :  5\n",
      "Review :  Wonderful\n",
      "Rating :  5\n",
      "Review :  Wonderful\n",
      "Rating :  4\n",
      "Review :  Terrific purchase\n",
      "Rating :  5\n",
      "Review :  Just wow!\n",
      "Rating :  5\n",
      "Review :  Excellent\n",
      "Rating :  5\n",
      "Review :  Decent product\n",
      "Rating :  3\n",
      "Review :  Very Good\n",
      "Rating :  4\n",
      "Review :  Good choice\n",
      "Rating :  4\n",
      "Review :  Simply awesome\n",
      "Rating :  5\n",
      "==========================\n"
     ]
    }
   ],
   "source": [
    "for i in range(1,9):\n",
    "    print(f\"Page => {i}\")\n",
    "    path = \"https://www.flipkart.com/huami-amazfit-bip-lite-smartwatch/product-reviews/itme9635d6b9907e?pid=SMWFHV3HVUNBPDGQ&page={}\".format(i)\n",
    "    res = url.urlopen(path)\n",
    "    page = bs4.BeautifulSoup(res)\n",
    "    review = page.find_all('p',class_='_2xg6Ul')\n",
    "    ratings = page.find_all('div',class_='E_uFuv')\n",
    "    \n",
    "    for j in range(len(review)):\n",
    "        print(\"Review : \",review[j].text)\n",
    "        print(\"Rating : \",ratings[j].text)\n",
    "    \n",
    "    print(\"==========================\")"
   ]
  },
  {
   "cell_type": "code",
   "execution_count": null,
   "metadata": {},
   "outputs": [],
   "source": []
  }
 ],
 "metadata": {
  "kernelspec": {
   "display_name": "Python 3",
   "language": "python",
   "name": "python3"
  },
  "language_info": {
   "codemirror_mode": {
    "name": "ipython",
    "version": 3
   },
   "file_extension": ".py",
   "mimetype": "text/x-python",
   "name": "python",
   "nbconvert_exporter": "python",
   "pygments_lexer": "ipython3",
   "version": "3.7.3"
  }
 },
 "nbformat": 4,
 "nbformat_minor": 2
}
