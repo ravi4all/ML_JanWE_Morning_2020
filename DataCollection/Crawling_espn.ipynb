{
 "cells": [
  {
   "cell_type": "code",
   "execution_count": 1,
   "metadata": {},
   "outputs": [],
   "source": [
    "# Beautiful Soup\n",
    "import bs4\n",
    "import urllib.request as url"
   ]
  },
  {
   "cell_type": "code",
   "execution_count": 2,
   "metadata": {},
   "outputs": [],
   "source": [
    "path = \"http://stats.espncricinfo.com/ci/content/records/223646.html\"\n",
    "http_res = url.urlopen(path)"
   ]
  },
  {
   "cell_type": "code",
   "execution_count": 3,
   "metadata": {},
   "outputs": [
    {
     "data": {
      "text/plain": [
       "<http.client.HTTPResponse at 0x1c9a9a2ef60>"
      ]
     },
     "execution_count": 3,
     "metadata": {},
     "output_type": "execute_result"
    }
   ],
   "source": [
    "http_res"
   ]
  },
  {
   "cell_type": "code",
   "execution_count": 4,
   "metadata": {},
   "outputs": [],
   "source": [
    "page = bs4.BeautifulSoup(http_res)"
   ]
  },
  {
   "cell_type": "code",
   "execution_count": 34,
   "metadata": {},
   "outputs": [],
   "source": [
    "table = page.find('table',class_='engineTable')"
   ]
  },
  {
   "cell_type": "code",
   "execution_count": 35,
   "metadata": {},
   "outputs": [
    {
     "data": {
      "text/plain": [
       "['RT Ponting (AUS)',\n",
       " '1995-2012',\n",
       " '168',\n",
       " '287',\n",
       " '29',\n",
       " '13378',\n",
       " '257',\n",
       " '51.85',\n",
       " '41',\n",
       " '62',\n",
       " '17']"
      ]
     },
     "execution_count": 35,
     "metadata": {},
     "output_type": "execute_result"
    }
   ],
   "source": [
    "table.text.split(\"\\n\\n\\n\")[3].split('\\n')"
   ]
  },
  {
   "cell_type": "code",
   "execution_count": 36,
   "metadata": {},
   "outputs": [],
   "source": [
    "table = table.text.split(\"\\n\\n\\n\")"
   ]
  },
  {
   "cell_type": "code",
   "execution_count": 37,
   "metadata": {},
   "outputs": [],
   "source": [
    "del table[0]"
   ]
  },
  {
   "cell_type": "code",
   "execution_count": 38,
   "metadata": {},
   "outputs": [],
   "source": [
    "for i in range(len(table)):\n",
    "    table[i] = table[i].split(\"\\n\")"
   ]
  },
  {
   "cell_type": "code",
   "execution_count": 39,
   "metadata": {},
   "outputs": [],
   "source": [
    "del table[1][0]"
   ]
  },
  {
   "cell_type": "code",
   "execution_count": 40,
   "metadata": {},
   "outputs": [],
   "source": [
    "del table[1][0]"
   ]
  },
  {
   "cell_type": "code",
   "execution_count": 52,
   "metadata": {},
   "outputs": [],
   "source": [
    "col_names = table[0]\n",
    "del table[0]"
   ]
  },
  {
   "cell_type": "code",
   "execution_count": 53,
   "metadata": {},
   "outputs": [],
   "source": [
    "import pandas as pd"
   ]
  },
  {
   "cell_type": "code",
   "execution_count": 54,
   "metadata": {},
   "outputs": [],
   "source": [
    "df = pd.DataFrame(table)"
   ]
  },
  {
   "cell_type": "code",
   "execution_count": 55,
   "metadata": {},
   "outputs": [
    {
     "data": {
      "text/html": [
       "<div>\n",
       "<style scoped>\n",
       "    .dataframe tbody tr th:only-of-type {\n",
       "        vertical-align: middle;\n",
       "    }\n",
       "\n",
       "    .dataframe tbody tr th {\n",
       "        vertical-align: top;\n",
       "    }\n",
       "\n",
       "    .dataframe thead th {\n",
       "        text-align: right;\n",
       "    }\n",
       "</style>\n",
       "<table border=\"1\" class=\"dataframe\">\n",
       "  <thead>\n",
       "    <tr style=\"text-align: right;\">\n",
       "      <th></th>\n",
       "      <th>0</th>\n",
       "      <th>1</th>\n",
       "      <th>2</th>\n",
       "      <th>3</th>\n",
       "      <th>4</th>\n",
       "      <th>5</th>\n",
       "      <th>6</th>\n",
       "      <th>7</th>\n",
       "      <th>8</th>\n",
       "      <th>9</th>\n",
       "      <th>10</th>\n",
       "    </tr>\n",
       "  </thead>\n",
       "  <tbody>\n",
       "    <tr>\n",
       "      <th>0</th>\n",
       "      <td>SR Tendulkar (INDIA)</td>\n",
       "      <td>1989-2013</td>\n",
       "      <td>200</td>\n",
       "      <td>329</td>\n",
       "      <td>33</td>\n",
       "      <td>15921</td>\n",
       "      <td>248*</td>\n",
       "      <td>53.78</td>\n",
       "      <td>51</td>\n",
       "      <td>68</td>\n",
       "      <td>14</td>\n",
       "    </tr>\n",
       "    <tr>\n",
       "      <th>1</th>\n",
       "      <td>RT Ponting (AUS)</td>\n",
       "      <td>1995-2012</td>\n",
       "      <td>168</td>\n",
       "      <td>287</td>\n",
       "      <td>29</td>\n",
       "      <td>13378</td>\n",
       "      <td>257</td>\n",
       "      <td>51.85</td>\n",
       "      <td>41</td>\n",
       "      <td>62</td>\n",
       "      <td>17</td>\n",
       "    </tr>\n",
       "    <tr>\n",
       "      <th>2</th>\n",
       "      <td>JH Kallis (ICC/SA)</td>\n",
       "      <td>1995-2013</td>\n",
       "      <td>166</td>\n",
       "      <td>280</td>\n",
       "      <td>40</td>\n",
       "      <td>13289</td>\n",
       "      <td>224</td>\n",
       "      <td>55.37</td>\n",
       "      <td>45</td>\n",
       "      <td>58</td>\n",
       "      <td>16</td>\n",
       "    </tr>\n",
       "    <tr>\n",
       "      <th>3</th>\n",
       "      <td>R Dravid (ICC/INDIA)</td>\n",
       "      <td>1996-2012</td>\n",
       "      <td>164</td>\n",
       "      <td>286</td>\n",
       "      <td>32</td>\n",
       "      <td>13288</td>\n",
       "      <td>270</td>\n",
       "      <td>52.31</td>\n",
       "      <td>36</td>\n",
       "      <td>63</td>\n",
       "      <td>8</td>\n",
       "    </tr>\n",
       "    <tr>\n",
       "      <th>4</th>\n",
       "      <td>AN Cook (ENG)</td>\n",
       "      <td>2006-2018</td>\n",
       "      <td>161</td>\n",
       "      <td>291</td>\n",
       "      <td>16</td>\n",
       "      <td>12472</td>\n",
       "      <td>294</td>\n",
       "      <td>45.35</td>\n",
       "      <td>33</td>\n",
       "      <td>57</td>\n",
       "      <td>9</td>\n",
       "    </tr>\n",
       "  </tbody>\n",
       "</table>\n",
       "</div>"
      ],
      "text/plain": [
       "                     0          1    2    3   4      5     6      7   8   9   \\\n",
       "0  SR Tendulkar (INDIA)  1989-2013  200  329  33  15921  248*  53.78  51  68   \n",
       "1      RT Ponting (AUS)  1995-2012  168  287  29  13378   257  51.85  41  62   \n",
       "2    JH Kallis (ICC/SA)  1995-2013  166  280  40  13289   224  55.37  45  58   \n",
       "3  R Dravid (ICC/INDIA)  1996-2012  164  286  32  13288   270  52.31  36  63   \n",
       "4         AN Cook (ENG)  2006-2018  161  291  16  12472   294  45.35  33  57   \n",
       "\n",
       "   10  \n",
       "0  14  \n",
       "1  17  \n",
       "2  16  \n",
       "3   8  \n",
       "4   9  "
      ]
     },
     "execution_count": 55,
     "metadata": {},
     "output_type": "execute_result"
    }
   ],
   "source": [
    "df.head()"
   ]
  },
  {
   "cell_type": "code",
   "execution_count": 56,
   "metadata": {},
   "outputs": [],
   "source": [
    "df.columns = col_names"
   ]
  },
  {
   "cell_type": "code",
   "execution_count": 57,
   "metadata": {},
   "outputs": [
    {
     "data": {
      "text/html": [
       "<div>\n",
       "<style scoped>\n",
       "    .dataframe tbody tr th:only-of-type {\n",
       "        vertical-align: middle;\n",
       "    }\n",
       "\n",
       "    .dataframe tbody tr th {\n",
       "        vertical-align: top;\n",
       "    }\n",
       "\n",
       "    .dataframe thead th {\n",
       "        text-align: right;\n",
       "    }\n",
       "</style>\n",
       "<table border=\"1\" class=\"dataframe\">\n",
       "  <thead>\n",
       "    <tr style=\"text-align: right;\">\n",
       "      <th></th>\n",
       "      <th>Player</th>\n",
       "      <th>Span</th>\n",
       "      <th>Mat</th>\n",
       "      <th>Inns</th>\n",
       "      <th>NO</th>\n",
       "      <th>Runs</th>\n",
       "      <th>HS</th>\n",
       "      <th>Ave</th>\n",
       "      <th>100</th>\n",
       "      <th>50</th>\n",
       "      <th>0</th>\n",
       "    </tr>\n",
       "  </thead>\n",
       "  <tbody>\n",
       "    <tr>\n",
       "      <th>0</th>\n",
       "      <td>SR Tendulkar (INDIA)</td>\n",
       "      <td>1989-2013</td>\n",
       "      <td>200</td>\n",
       "      <td>329</td>\n",
       "      <td>33</td>\n",
       "      <td>15921</td>\n",
       "      <td>248*</td>\n",
       "      <td>53.78</td>\n",
       "      <td>51</td>\n",
       "      <td>68</td>\n",
       "      <td>14</td>\n",
       "    </tr>\n",
       "    <tr>\n",
       "      <th>1</th>\n",
       "      <td>RT Ponting (AUS)</td>\n",
       "      <td>1995-2012</td>\n",
       "      <td>168</td>\n",
       "      <td>287</td>\n",
       "      <td>29</td>\n",
       "      <td>13378</td>\n",
       "      <td>257</td>\n",
       "      <td>51.85</td>\n",
       "      <td>41</td>\n",
       "      <td>62</td>\n",
       "      <td>17</td>\n",
       "    </tr>\n",
       "    <tr>\n",
       "      <th>2</th>\n",
       "      <td>JH Kallis (ICC/SA)</td>\n",
       "      <td>1995-2013</td>\n",
       "      <td>166</td>\n",
       "      <td>280</td>\n",
       "      <td>40</td>\n",
       "      <td>13289</td>\n",
       "      <td>224</td>\n",
       "      <td>55.37</td>\n",
       "      <td>45</td>\n",
       "      <td>58</td>\n",
       "      <td>16</td>\n",
       "    </tr>\n",
       "    <tr>\n",
       "      <th>3</th>\n",
       "      <td>R Dravid (ICC/INDIA)</td>\n",
       "      <td>1996-2012</td>\n",
       "      <td>164</td>\n",
       "      <td>286</td>\n",
       "      <td>32</td>\n",
       "      <td>13288</td>\n",
       "      <td>270</td>\n",
       "      <td>52.31</td>\n",
       "      <td>36</td>\n",
       "      <td>63</td>\n",
       "      <td>8</td>\n",
       "    </tr>\n",
       "    <tr>\n",
       "      <th>4</th>\n",
       "      <td>AN Cook (ENG)</td>\n",
       "      <td>2006-2018</td>\n",
       "      <td>161</td>\n",
       "      <td>291</td>\n",
       "      <td>16</td>\n",
       "      <td>12472</td>\n",
       "      <td>294</td>\n",
       "      <td>45.35</td>\n",
       "      <td>33</td>\n",
       "      <td>57</td>\n",
       "      <td>9</td>\n",
       "    </tr>\n",
       "  </tbody>\n",
       "</table>\n",
       "</div>"
      ],
      "text/plain": [
       "                 Player       Span  Mat Inns  NO   Runs    HS    Ave 100  50  \\\n",
       "0  SR Tendulkar (INDIA)  1989-2013  200  329  33  15921  248*  53.78  51  68   \n",
       "1      RT Ponting (AUS)  1995-2012  168  287  29  13378   257  51.85  41  62   \n",
       "2    JH Kallis (ICC/SA)  1995-2013  166  280  40  13289   224  55.37  45  58   \n",
       "3  R Dravid (ICC/INDIA)  1996-2012  164  286  32  13288   270  52.31  36  63   \n",
       "4         AN Cook (ENG)  2006-2018  161  291  16  12472   294  45.35  33  57   \n",
       "\n",
       "    0  \n",
       "0  14  \n",
       "1  17  \n",
       "2  16  \n",
       "3   8  \n",
       "4   9  "
      ]
     },
     "execution_count": 57,
     "metadata": {},
     "output_type": "execute_result"
    }
   ],
   "source": [
    "df.head()"
   ]
  },
  {
   "cell_type": "code",
   "execution_count": null,
   "metadata": {},
   "outputs": [],
   "source": []
  },
  {
   "cell_type": "code",
   "execution_count": null,
   "metadata": {},
   "outputs": [],
   "source": []
  }
 ],
 "metadata": {
  "kernelspec": {
   "display_name": "Python 3",
   "language": "python",
   "name": "python3"
  },
  "language_info": {
   "codemirror_mode": {
    "name": "ipython",
    "version": 3
   },
   "file_extension": ".py",
   "mimetype": "text/x-python",
   "name": "python",
   "nbconvert_exporter": "python",
   "pygments_lexer": "ipython3",
   "version": "3.7.3"
  }
 },
 "nbformat": 4,
 "nbformat_minor": 2
}
