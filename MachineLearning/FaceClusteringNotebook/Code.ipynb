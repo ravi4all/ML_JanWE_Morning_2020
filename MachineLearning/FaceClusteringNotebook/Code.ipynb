{
 "cells": [
  {
   "cell_type": "code",
   "execution_count": 1,
   "metadata": {},
   "outputs": [],
   "source": [
    "import cv2\n",
    "import numpy as np\n",
    "from sklearn.cluster import KMeans, DBSCAN\n",
    "import os"
   ]
  },
  {
   "cell_type": "code",
   "execution_count": 2,
   "metadata": {},
   "outputs": [],
   "source": [
    "images = os.listdir('dataset/')"
   ]
  },
  {
   "cell_type": "code",
   "execution_count": 3,
   "metadata": {},
   "outputs": [
    {
     "data": {
      "text/plain": [
       "129"
      ]
     },
     "execution_count": 3,
     "metadata": {},
     "output_type": "execute_result"
    }
   ],
   "source": [
    "len(images)"
   ]
  },
  {
   "cell_type": "code",
   "execution_count": 4,
   "metadata": {},
   "outputs": [],
   "source": [
    "face_cascade = cv2.CascadeClassifier('cascade.xml')"
   ]
  },
  {
   "cell_type": "code",
   "execution_count": 5,
   "metadata": {},
   "outputs": [],
   "source": [
    "face_data = []"
   ]
  },
  {
   "cell_type": "code",
   "execution_count": 6,
   "metadata": {},
   "outputs": [],
   "source": [
    "for imgPath in images:\n",
    "    img = cv2.imread('dataset/'+imgPath,cv2.COLOR_BGR2GRAY)\n",
    "    gray = cv2.cvtColor(img, cv2.COLOR_BGR2GRAY)\n",
    "    face = face_cascade.detectMultiScale(gray,1.3)\n",
    "    for x,y,w,h in face:\n",
    "        face_comp = gray[y:y+h, x:x+w]\n",
    "        face_comp = cv2.resize(face_comp, (50,50))\n",
    "    face_data.append(face_comp)"
   ]
  },
  {
   "cell_type": "code",
   "execution_count": 7,
   "metadata": {},
   "outputs": [],
   "source": [
    "face_data = np.asarray(face_data)"
   ]
  },
  {
   "cell_type": "code",
   "execution_count": 8,
   "metadata": {},
   "outputs": [
    {
     "data": {
      "text/plain": [
       "(129, 50, 50)"
      ]
     },
     "execution_count": 8,
     "metadata": {},
     "output_type": "execute_result"
    }
   ],
   "source": [
    "face_data.shape"
   ]
  },
  {
   "cell_type": "code",
   "execution_count": 9,
   "metadata": {},
   "outputs": [],
   "source": [
    "import matplotlib.pyplot as plt"
   ]
  },
  {
   "cell_type": "code",
   "execution_count": 10,
   "metadata": {},
   "outputs": [
    {
     "data": {
      "image/png": "[encoded data removed]",
      "text/plain": [
       "<Figure size 432x288 with 1 Axes>"
      ]
     },
     "metadata": {
      "needs_background": "light"
     },
     "output_type": "display_data"
    }
   ],
   "source": [
    "plt.imshow(face_data[0])\n",
    "plt.gray()"
   ]
  },
  {
   "cell_type": "code",
   "execution_count": 11,
   "metadata": {},
   "outputs": [],
   "source": [
    "face_data = np.reshape(face_data, (face_data.shape[0],-1))"
   ]
  },
  {
   "cell_type": "code",
   "execution_count": 12,
   "metadata": {},
   "outputs": [
    {
     "data": {
      "text/plain": [
       "(129, 2500)"
      ]
     },
     "execution_count": 12,
     "metadata": {},
     "output_type": "execute_result"
    }
   ],
   "source": [
    "face_data.shape"
   ]
  },
  {
   "cell_type": "code",
   "execution_count": 13,
   "metadata": {},
   "outputs": [],
   "source": [
    "face_data = face_data / 255."
   ]
  },
  {
   "cell_type": "code",
   "execution_count": 14,
   "metadata": {},
   "outputs": [],
   "source": [
    "from sklearn import metrics\n",
    "from scipy.spatial.distance import cdist"
   ]
  },
  {
   "cell_type": "code",
   "execution_count": 15,
   "metadata": {},
   "outputs": [
    {
     "data": {
      "image/png": "[encoded data removed]",
      "text/plain": [
       "<Figure size 432x288 with 1 Axes>"
      ]
     },
     "metadata": {
      "needs_background": "light"
     },
     "output_type": "display_data"
    }
   ],
   "source": [
    "# k means determine k\n",
    "distortions = []\n",
    "K = range(1,10)\n",
    "for k in K:\n",
    "    kmeanModel = KMeans(n_clusters=k).fit(face_data)\n",
    "    kmeanModel.fit(face_data)\n",
    "    distortions.append(sum(np.min(cdist(face_data, kmeanModel.cluster_centers_, 'euclidean'), axis=1)) / face_data.shape[0])\n",
    "\n",
    "# Plot the elbow\n",
    "plt.plot(K, distortions, 'bx-')\n",
    "plt.xlabel('k')\n",
    "plt.ylabel('Distortion')\n",
    "plt.title('The Elbow Method showing the optimal k')\n",
    "plt.show()"
   ]
  },
  {
   "cell_type": "code",
   "execution_count": 16,
   "metadata": {},
   "outputs": [
    {
     "data": {
      "text/plain": [
       "KMeans(algorithm='auto', copy_x=True, init='k-means++', max_iter=5000,\n",
       "    n_clusters=5, n_init=10, n_jobs=None, precompute_distances='auto',\n",
       "    random_state=None, tol=0.0001, verbose=0)"
      ]
     },
     "execution_count": 16,
     "metadata": {},
     "output_type": "execute_result"
    }
   ],
   "source": [
    "clusters = KMeans(n_clusters=5,max_iter=5000)\n",
    "clusters.fit(face_data)"
   ]
  },
  {
   "cell_type": "code",
   "execution_count": 17,
   "metadata": {},
   "outputs": [],
   "source": [
    "labels = clusters.predict(face_data)"
   ]
  },
  {
   "cell_type": "code",
   "execution_count": 18,
   "metadata": {},
   "outputs": [
    {
     "data": {
      "text/plain": [
       "array([3, 1, 1, 2, 4, 4, 4, 1, 1, 1, 1, 3, 2, 4, 1, 4, 4, 4, 4, 4, 1, 4,\n",
       "       1, 4, 1, 2, 2, 1, 2, 4, 4, 2, 4, 1, 1, 2, 3, 2, 2, 1, 2, 4, 4, 1,\n",
       "       4, 2, 2, 3, 1, 2, 4, 2, 1, 2, 0, 0, 4, 4, 4, 4, 4, 1, 1, 4, 4, 4,\n",
       "       4, 0, 0, 4, 4, 4, 1, 4, 4, 1, 2, 4, 4, 4, 4, 4, 4, 4, 4, 2, 4, 1,\n",
       "       4, 4, 4, 4, 0, 2, 4, 0, 3, 0, 0, 1, 2, 2, 2, 2, 2, 2, 1, 1, 4, 1,\n",
       "       2, 3, 4, 3, 1, 1, 1, 1, 1, 1, 4, 2, 1, 1, 4, 3, 2, 2, 3])"
      ]
     },
     "execution_count": 18,
     "metadata": {},
     "output_type": "execute_result"
    }
   ],
   "source": [
    "labels"
   ]
  },
  {
   "cell_type": "code",
   "execution_count": 19,
   "metadata": {},
   "outputs": [
    {
     "data": {
      "text/plain": [
       "array([0.31764706, 0.34901961, 0.36862745, ..., 0.55686275, 0.68235294,\n",
       "       0.70196078])"
      ]
     },
     "execution_count": 19,
     "metadata": {},
     "output_type": "execute_result"
    }
   ],
   "source": [
    "face_data[0]"
   ]
  },
  {
   "cell_type": "code",
   "execution_count": 20,
   "metadata": {},
   "outputs": [
    {
     "data": {
      "text/plain": [
       "(array([0, 1, 2, 3, 4]), array([ 8, 34, 28,  9, 50], dtype=int64))"
      ]
     },
     "execution_count": 20,
     "metadata": {},
     "output_type": "execute_result"
    }
   ],
   "source": [
    "np.unique(labels, return_counts=True)"
   ]
  },
  {
   "cell_type": "code",
   "execution_count": 21,
   "metadata": {},
   "outputs": [],
   "source": [
    "predictions = {}\n",
    "for i in range(5):\n",
    "    predictions[i] = []\n",
    "\n",
    "for i in range(len(face_data)):\n",
    "    predictions[labels[i]].append(images[i])"
   ]
  },
  {
   "cell_type": "code",
   "execution_count": 22,
   "metadata": {},
   "outputs": [
    {
     "data": {
      "text/plain": [
       "['00000004.jpg',\n",
       " '00000005.jpg',\n",
       " '00000006.jpg',\n",
       " '00000013.jpg',\n",
       " '00000015.jpg',\n",
       " '00000016.jpg',\n",
       " '00000017.jpg',\n",
       " '00000018.jpg',\n",
       " '00000019.jpg',\n",
       " '00000021.jpg',\n",
       " '00000023.jpg',\n",
       " '00000029.jpg',\n",
       " '00000030.jpg',\n",
       " '00000032.jpg',\n",
       " '00000041.jpg',\n",
       " '00000042.jpg',\n",
       " '00000044.jpg',\n",
       " '00000050.jpg',\n",
       " '00000056.jpg',\n",
       " '00000057.jpg',\n",
       " '00000058.jpg',\n",
       " '00000059.jpg',\n",
       " '00000060.jpg',\n",
       " '00000063.jpg',\n",
       " '00000064.jpg',\n",
       " '00000065.jpg',\n",
       " '00000066.jpg',\n",
       " '00000069.jpg',\n",
       " '00000070.jpg',\n",
       " '00000071.jpg',\n",
       " '00000073.jpg',\n",
       " '00000074.jpg',\n",
       " '00000077.jpg',\n",
       " '00000078.jpg',\n",
       " '00000079.jpg',\n",
       " '00000080.jpg',\n",
       " '00000081.jpg',\n",
       " '00000082.jpg',\n",
       " '00000083.jpg',\n",
       " '00000084.jpg',\n",
       " '00000086.jpg',\n",
       " '00000088.jpg',\n",
       " '00000089.jpg',\n",
       " '00000090.jpg',\n",
       " '00000091.jpg',\n",
       " '00000094.jpg',\n",
       " '00000108.jpg',\n",
       " '00000112.jpg',\n",
       " '00000120.jpg',\n",
       " '00000124.jpg']"
      ]
     },
     "execution_count": 22,
     "metadata": {},
     "output_type": "execute_result"
    }
   ],
   "source": [
    "predictions[4]"
   ]
  },
  {
   "cell_type": "code",
   "execution_count": 23,
   "metadata": {},
   "outputs": [],
   "source": [
    "for i in range(5):\n",
    "    os.mkdir(str(i))"
   ]
  },
  {
   "cell_type": "code",
   "execution_count": 24,
   "metadata": {},
   "outputs": [],
   "source": [
    "for key in predictions:\n",
    "    for img in predictions[key]:\n",
    "        data = open('dataset/'+img,'rb').read()\n",
    "        open(str(key)+'/'+img,'wb').write(data)"
   ]
  },
  {
   "cell_type": "code",
   "execution_count": 25,
   "metadata": {},
   "outputs": [
    {
     "data": {
      "text/plain": [
       "(5, 2500)"
      ]
     },
     "execution_count": 25,
     "metadata": {},
     "output_type": "execute_result"
    }
   ],
   "source": [
    "clusters.cluster_centers_.shape"
   ]
  },
  {
   "cell_type": "code",
   "execution_count": 26,
   "metadata": {},
   "outputs": [],
   "source": [
    "import pickle as pkl"
   ]
  },
  {
   "cell_type": "code",
   "execution_count": 27,
   "metadata": {},
   "outputs": [],
   "source": [
    "with open('cluster.pkl','wb') as file:\n",
    "    pkl.dump(clusters,file)"
   ]
  },
  {
   "cell_type": "code",
   "execution_count": null,
   "metadata": {},
   "outputs": [],
   "source": []
  },
  {
   "cell_type": "code",
   "execution_count": null,
   "metadata": {},
   "outputs": [],
   "source": []
  }
 ],
 "metadata": {
  "kernelspec": {
   "display_name": "Python 3",
   "language": "python",
   "name": "python3"
  },
  "language_info": {
   "codemirror_mode": {
    "name": "ipython",
    "version": 3
   },
   "file_extension": ".py",
   "mimetype": "text/x-python",
   "name": "python",
   "nbconvert_exporter": "python",
   "pygments_lexer": "ipython3",
   "version": "3.7.4"
  }
 },
 "nbformat": 4,
 "nbformat_minor": 2
}
