{
 "cells": [
  {
   "cell_type": "code",
   "execution_count": 3,
   "metadata": {},
   "outputs": [],
   "source": [
    "# Tokenization\n",
    "from nltk.tokenize import word_tokenize\n",
    "# Remove Stopwords\n",
    "from nltk.corpus import stopwords\n",
    "# Lemmatization / Stemming\n",
    "from nltk.stem import PorterStemmer, WordNetLemmatizer\n",
    "# Vectorization\n",
    "from sklearn.feature_extraction.text import CountVectorizer, TfidfVectorizer"
   ]
  },
  {
   "cell_type": "code",
   "execution_count": 4,
   "metadata": {},
   "outputs": [],
   "source": [
    "documents = [\n",
    "    \"Hello, this is python programming, and python is a language\",\n",
    "    \"Python is used in machine learning and game development\",\n",
    "    \"Python is one of the most popular programming today and it is loved by everyone\"\n",
    "]"
   ]
  },
  {
   "cell_type": "code",
   "execution_count": 5,
   "metadata": {},
   "outputs": [
    {
     "data": {
      "text/plain": [
       "['Hello',\n",
       " ',',\n",
       " 'this',\n",
       " 'is',\n",
       " 'python',\n",
       " 'programming',\n",
       " ',',\n",
       " 'and',\n",
       " 'python',\n",
       " 'is',\n",
       " 'a',\n",
       " 'language']"
      ]
     },
     "execution_count": 5,
     "metadata": {},
     "output_type": "execute_result"
    }
   ],
   "source": [
    "word_tokenize(documents[0])"
   ]
  },
  {
   "cell_type": "code",
   "execution_count": 6,
   "metadata": {},
   "outputs": [],
   "source": [
    "tokens = []\n",
    "for i in range(len(documents)):\n",
    "    tokens.append(word_tokenize(documents[i].lower()))"
   ]
  },
  {
   "cell_type": "code",
   "execution_count": 9,
   "metadata": {},
   "outputs": [
    {
     "name": "stdout",
     "output_type": "stream",
     "text": [
      "['hello', ',', 'this', 'is', 'python', 'programming', ',', 'and', 'python', 'is', 'a', 'language']\n"
     ]
    }
   ],
   "source": [
    "print(tokens[0])"
   ]
  },
  {
   "cell_type": "code",
   "execution_count": 11,
   "metadata": {},
   "outputs": [],
   "source": [
    "eng_stopwords = stopwords.words(\"english\")"
   ]
  },
  {
   "cell_type": "code",
   "execution_count": 12,
   "metadata": {},
   "outputs": [],
   "source": [
    "eng_stopwords.extend([',','.','!','@','#','?'])"
   ]
  },
  {
   "cell_type": "code",
   "execution_count": 13,
   "metadata": {},
   "outputs": [],
   "source": [
    "main_words = []\n",
    "for i in range(len(tokens)):\n",
    "    words = []\n",
    "    for token in tokens[i]:\n",
    "        if token not in eng_stopwords:\n",
    "            words.append(token)\n",
    "    main_words.append(words)"
   ]
  },
  {
   "cell_type": "code",
   "execution_count": 14,
   "metadata": {},
   "outputs": [
    {
     "name": "stdout",
     "output_type": "stream",
     "text": [
      "[['hello', 'python', 'programming', 'python', 'language'], ['python', 'used', 'machine', 'learning', 'game', 'development'], ['python', 'one', 'popular', 'programming', 'today', 'loved', 'everyone']]\n"
     ]
    }
   ],
   "source": [
    "print(main_words)"
   ]
  },
  {
   "cell_type": "code",
   "execution_count": 15,
   "metadata": {},
   "outputs": [],
   "source": [
    "ps = PorterStemmer()"
   ]
  },
  {
   "cell_type": "code",
   "execution_count": 20,
   "metadata": {},
   "outputs": [
    {
     "data": {
      "text/plain": [
       "'cri'"
      ]
     },
     "execution_count": 20,
     "metadata": {},
     "output_type": "execute_result"
    }
   ],
   "source": [
    "# ps.stem('playing')\n",
    "# ps.stem('wanted')\n",
    "# ps.stem('flying')\n",
    "ps.stem('crying')"
   ]
  },
  {
   "cell_type": "code",
   "execution_count": 21,
   "metadata": {},
   "outputs": [],
   "source": [
    "wnet = WordNetLemmatizer()"
   ]
  },
  {
   "cell_type": "code",
   "execution_count": 25,
   "metadata": {},
   "outputs": [
    {
     "data": {
      "text/plain": [
       "'buy'"
      ]
     },
     "execution_count": 25,
     "metadata": {},
     "output_type": "execute_result"
    }
   ],
   "source": [
    "# wnet.lemmatize(\"playing\",pos='v')\n",
    "# wnet.lemmatize(\"flying\",pos='v')\n",
    "wnet.lemmatize(\"bought\",pos='v')"
   ]
  },
  {
   "cell_type": "code",
   "execution_count": 26,
   "metadata": {},
   "outputs": [],
   "source": [
    "for i in range(len(main_words)):\n",
    "    for j in range(len(main_words[i])):\n",
    "        main_words[i][j] = wnet.lemmatize(main_words[i][j],pos='v')"
   ]
  },
  {
   "cell_type": "code",
   "execution_count": 27,
   "metadata": {},
   "outputs": [
    {
     "name": "stdout",
     "output_type": "stream",
     "text": [
      "[['hello', 'python', 'program', 'python', 'language'], ['python', 'use', 'machine', 'learn', 'game', 'development'], ['python', 'one', 'popular', 'program', 'today', 'love', 'everyone']]\n"
     ]
    }
   ],
   "source": [
    "print(main_words)"
   ]
  },
  {
   "cell_type": "code",
   "execution_count": 28,
   "metadata": {},
   "outputs": [],
   "source": [
    "for i in range(len(main_words)):\n",
    "    main_words[i] = \" \".join(main_words[i])"
   ]
  },
  {
   "cell_type": "code",
   "execution_count": 29,
   "metadata": {},
   "outputs": [
    {
     "data": {
      "text/plain": [
       "['hello python program python language',\n",
       " 'python use machine learn game development',\n",
       " 'python one popular program today love everyone']"
      ]
     },
     "execution_count": 29,
     "metadata": {},
     "output_type": "execute_result"
    }
   ],
   "source": [
    "main_words"
   ]
  },
  {
   "cell_type": "code",
   "execution_count": 30,
   "metadata": {},
   "outputs": [],
   "source": [
    "cv = CountVectorizer()"
   ]
  },
  {
   "cell_type": "code",
   "execution_count": 31,
   "metadata": {},
   "outputs": [],
   "source": [
    "vect = cv.fit(main_words)"
   ]
  },
  {
   "cell_type": "code",
   "execution_count": 34,
   "metadata": {},
   "outputs": [
    {
     "name": "stdout",
     "output_type": "stream",
     "text": [
      "{'hello': 3, 'python': 11, 'program': 10, 'language': 4, 'use': 13, 'machine': 7, 'learn': 5, 'game': 2, 'development': 0, 'one': 8, 'popular': 9, 'today': 12, 'love': 6, 'everyone': 1}\n"
     ]
    }
   ],
   "source": [
    "print(vect.vocabulary_)"
   ]
  },
  {
   "cell_type": "code",
   "execution_count": 35,
   "metadata": {},
   "outputs": [],
   "source": [
    "vect = cv.transform(main_words)"
   ]
  },
  {
   "cell_type": "code",
   "execution_count": 36,
   "metadata": {},
   "outputs": [
    {
     "data": {
      "text/plain": [
       "<3x14 sparse matrix of type '<class 'numpy.int64'>'\n",
       "\twith 17 stored elements in Compressed Sparse Row format>"
      ]
     },
     "execution_count": 36,
     "metadata": {},
     "output_type": "execute_result"
    }
   ],
   "source": [
    "vect"
   ]
  },
  {
   "cell_type": "code",
   "execution_count": 38,
   "metadata": {},
   "outputs": [
    {
     "data": {
      "text/plain": [
       "['hello python program python language',\n",
       " 'python use machine learn game development',\n",
       " 'python one popular program today love everyone']"
      ]
     },
     "execution_count": 38,
     "metadata": {},
     "output_type": "execute_result"
    }
   ],
   "source": [
    "main_words"
   ]
  },
  {
   "cell_type": "code",
   "execution_count": 37,
   "metadata": {},
   "outputs": [
    {
     "data": {
      "text/plain": [
       "array([[0, 0, 0, 1, 1, 0, 0, 0, 0, 0, 1, 2, 0, 0],\n",
       "       [1, 0, 1, 0, 0, 1, 0, 1, 0, 0, 0, 1, 0, 1],\n",
       "       [0, 1, 0, 0, 0, 0, 1, 0, 1, 1, 1, 1, 1, 0]], dtype=int64)"
      ]
     },
     "execution_count": 37,
     "metadata": {},
     "output_type": "execute_result"
    }
   ],
   "source": [
    "vect.toarray()"
   ]
  },
  {
   "cell_type": "code",
   "execution_count": 39,
   "metadata": {},
   "outputs": [],
   "source": [
    "tfidf = TfidfVectorizer()"
   ]
  },
  {
   "cell_type": "code",
   "execution_count": 40,
   "metadata": {},
   "outputs": [
    {
     "data": {
      "text/plain": [
       "array([[0.        , 0.        , 0.        , 0.50165133, 0.50165133,\n",
       "        0.        , 0.        , 0.        , 0.        , 0.        ,\n",
       "        0.38151877, 0.59256672, 0.        , 0.        ],\n",
       "       [0.43238509, 0.        , 0.43238509, 0.        , 0.        ,\n",
       "        0.43238509, 0.        , 0.43238509, 0.        , 0.        ,\n",
       "        0.        , 0.2553736 , 0.        , 0.43238509],\n",
       "       [0.        , 0.41074684, 0.        , 0.        , 0.        ,\n",
       "        0.        , 0.41074684, 0.        , 0.41074684, 0.41074684,\n",
       "        0.31238356, 0.2425937 , 0.41074684, 0.        ]])"
      ]
     },
     "execution_count": 40,
     "metadata": {},
     "output_type": "execute_result"
    }
   ],
   "source": [
    "tfidf.fit_transform(main_words).toarray()"
   ]
  },
  {
   "cell_type": "code",
   "execution_count": null,
   "metadata": {},
   "outputs": [],
   "source": []
  }
 ],
 "metadata": {
  "kernelspec": {
   "display_name": "Python 3",
   "language": "python",
   "name": "python3"
  },
  "language_info": {
   "codemirror_mode": {
    "name": "ipython",
    "version": 3
   },
   "file_extension": ".py",
   "mimetype": "text/x-python",
   "name": "python",
   "nbconvert_exporter": "python",
   "pygments_lexer": "ipython3",
   "version": "3.7.4"
  }
 },
 "nbformat": 4,
 "nbformat_minor": 4
}
