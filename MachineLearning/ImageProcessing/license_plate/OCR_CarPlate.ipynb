{
 "cells": [
  {
   "cell_type": "code",
   "execution_count": 37,
   "metadata": {},
   "outputs": [],
   "source": [
    "import pytesseract as tess\n",
    "import cv2\n",
    "from PIL import Image\n",
    "import numpy as np"
   ]
  },
  {
   "cell_type": "code",
   "execution_count": 5,
   "metadata": {},
   "outputs": [],
   "source": [
    "dataset = cv2.CascadeClassifier('haarcascade_russian_plate_number.xml')"
   ]
  },
  {
   "cell_type": "code",
   "execution_count": 64,
   "metadata": {},
   "outputs": [
    {
     "name": "stdout",
     "output_type": "stream",
     "text": [
      "Text is:  x57oxx4)\n"
     ]
    }
   ],
   "source": [
    "img = cv2.imread('img_3.jpg')\n",
    "# img = cv2.resize(img,None,fx=0.5,fy=0.5)\n",
    "img = cv2.resize(img, None, fx=0.5, fy=0.5, interpolation=cv2.INTER_CUBIC)\n",
    "img = cv2.cvtColor(img, cv2.COLOR_BGR2GRAY)\n",
    "kernel = np.ones((1, 1), np.uint8)\n",
    "img = cv2.dilate(img, kernel, iterations=1)\n",
    "img = cv2.erode(img, kernel, iterations=1)\n",
    "img = cv2.adaptiveThreshold(cv2.GaussianBlur(img, (5, 5), 0), 255, cv2.ADAPTIVE_THRESH_GAUSSIAN_C, cv2.THRESH_BINARY, 31, 2)\n",
    "\n",
    "try:\n",
    "    plate = dataset.detectMultiScale(img,1.5)\n",
    "    for x,y,w,h in plate:\n",
    "        cv2.rectangle(img,(x,y),(x+w,y+h),(255,0,0),4)\n",
    "    plateImg = img[y:y+h,x:x+w]\n",
    "    cv2.imshow('result',img)\n",
    "    cv2.waitKey(0)\n",
    "    test_image = Image.fromarray(plateImg)\n",
    "    tess.pytesseract.tesseract_cmd = r'C:\\Tesseract-OCR\\tesseract.exe'\n",
    "    text = tess.image_to_string(test_image, lang='eng')\n",
    "    print(\"Text is: \", text)\n",
    "except BaseException as ex:\n",
    "    print(ex)\n",
    "finally:\n",
    "    cv2.destroyAllWindows()"
   ]
  },
  {
   "cell_type": "code",
   "execution_count": null,
   "metadata": {},
   "outputs": [],
   "source": []
  },
  {
   "cell_type": "code",
   "execution_count": null,
   "metadata": {},
   "outputs": [],
   "source": []
  }
 ],
 "metadata": {
  "kernelspec": {
   "display_name": "Python 3",
   "language": "python",
   "name": "python3"
  },
  "language_info": {
   "codemirror_mode": {
    "name": "ipython",
    "version": 3
   },
   "file_extension": ".py",
   "mimetype": "text/x-python",
   "name": "python",
   "nbconvert_exporter": "python",
   "pygments_lexer": "ipython3",
   "version": "3.7.3"
  }
 },
 "nbformat": 4,
 "nbformat_minor": 4
}
